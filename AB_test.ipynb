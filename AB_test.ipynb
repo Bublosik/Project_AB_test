{
 "cells": [
  {
   "cell_type": "code",
   "execution_count": 68,
   "id": "42e86175",
   "metadata": {},
   "outputs": [],
   "source": [
    "import pandas as pd\n",
    "import numpy as np\n",
    "from scipy import stats\n",
    "import matplotlib.pyplot as plt\n",
    "import seaborn as sns\n",
    "import statsmodels.api as sm"
   ]
  },
  {
   "cell_type": "code",
   "execution_count": 2,
   "id": "24340d0b",
   "metadata": {},
   "outputs": [
    {
     "data": {
      "text/html": [
       "<div>\n",
       "<style scoped>\n",
       "    .dataframe tbody tr th:only-of-type {\n",
       "        vertical-align: middle;\n",
       "    }\n",
       "\n",
       "    .dataframe tbody tr th {\n",
       "        vertical-align: top;\n",
       "    }\n",
       "\n",
       "    .dataframe thead th {\n",
       "        text-align: right;\n",
       "    }\n",
       "</style>\n",
       "<table border=\"1\" class=\"dataframe\">\n",
       "  <thead>\n",
       "    <tr style=\"text-align: right;\">\n",
       "      <th></th>\n",
       "      <th>USER_ID</th>\n",
       "      <th>VARIANT_NAME</th>\n",
       "      <th>REVENUE</th>\n",
       "    </tr>\n",
       "  </thead>\n",
       "  <tbody>\n",
       "    <tr>\n",
       "      <th>0</th>\n",
       "      <td>737</td>\n",
       "      <td>variant</td>\n",
       "      <td>0.0</td>\n",
       "    </tr>\n",
       "    <tr>\n",
       "      <th>1</th>\n",
       "      <td>2423</td>\n",
       "      <td>control</td>\n",
       "      <td>0.0</td>\n",
       "    </tr>\n",
       "    <tr>\n",
       "      <th>2</th>\n",
       "      <td>9411</td>\n",
       "      <td>control</td>\n",
       "      <td>0.0</td>\n",
       "    </tr>\n",
       "    <tr>\n",
       "      <th>3</th>\n",
       "      <td>7311</td>\n",
       "      <td>control</td>\n",
       "      <td>0.0</td>\n",
       "    </tr>\n",
       "    <tr>\n",
       "      <th>4</th>\n",
       "      <td>6174</td>\n",
       "      <td>variant</td>\n",
       "      <td>0.0</td>\n",
       "    </tr>\n",
       "  </tbody>\n",
       "</table>\n",
       "</div>"
      ],
      "text/plain": [
       "   USER_ID VARIANT_NAME  REVENUE\n",
       "0      737      variant      0.0\n",
       "1     2423      control      0.0\n",
       "2     9411      control      0.0\n",
       "3     7311      control      0.0\n",
       "4     6174      variant      0.0"
      ]
     },
     "execution_count": 2,
     "metadata": {},
     "output_type": "execute_result"
    }
   ],
   "source": [
    "df = pd.read_csv('AB_Test_Results.csv')\n",
    "df.head()"
   ]
  },
  {
   "cell_type": "code",
   "execution_count": 3,
   "id": "8d9a9be7",
   "metadata": {
    "scrolled": true
   },
   "outputs": [
    {
     "data": {
      "text/plain": [
       "(10000, 3)"
      ]
     },
     "execution_count": 3,
     "metadata": {},
     "output_type": "execute_result"
    }
   ],
   "source": [
    "df.shape"
   ]
  },
  {
   "cell_type": "code",
   "execution_count": 4,
   "id": "79e77826",
   "metadata": {},
   "outputs": [
    {
     "name": "stdout",
     "output_type": "stream",
     "text": [
      "<class 'pandas.core.frame.DataFrame'>\n",
      "RangeIndex: 10000 entries, 0 to 9999\n",
      "Data columns (total 3 columns):\n",
      " #   Column        Non-Null Count  Dtype  \n",
      "---  ------        --------------  -----  \n",
      " 0   USER_ID       10000 non-null  int64  \n",
      " 1   VARIANT_NAME  10000 non-null  object \n",
      " 2   REVENUE       10000 non-null  float64\n",
      "dtypes: float64(1), int64(1), object(1)\n",
      "memory usage: 234.5+ KB\n"
     ]
    }
   ],
   "source": [
    "df.info()"
   ]
  },
  {
   "cell_type": "markdown",
   "id": "a43d34e2",
   "metadata": {},
   "source": [
    "### У нас 10000 непропущенных значений. Проверим уникальность пользователей"
   ]
  },
  {
   "cell_type": "code",
   "execution_count": 5,
   "id": "046f6c64",
   "metadata": {},
   "outputs": [
    {
     "data": {
      "text/plain": [
       "6324"
      ]
     },
     "execution_count": 5,
     "metadata": {},
     "output_type": "execute_result"
    }
   ],
   "source": [
    "df.USER_ID.nunique()"
   ]
  },
  {
   "cell_type": "markdown",
   "id": "2221525a",
   "metadata": {},
   "source": [
    "### Получается, что у нас 3676 повторных пользователей. Посмотрим теперь, есть ли пользователи, которые попали в обе группы"
   ]
  },
  {
   "cell_type": "code",
   "execution_count": 6,
   "id": "fabccea2",
   "metadata": {},
   "outputs": [
    {
     "data": {
      "text/plain": [
       "1    4783\n",
       "2    1541\n",
       "Name: VARIANT_NAME, dtype: int64"
      ]
     },
     "execution_count": 6,
     "metadata": {},
     "output_type": "execute_result"
    }
   ],
   "source": [
    "double_group = df.groupby(by = 'USER_ID').VARIANT_NAME.nunique().value_counts() \n",
    "double_group"
   ]
  },
  {
   "cell_type": "code",
   "execution_count": 7,
   "id": "1311bbeb",
   "metadata": {},
   "outputs": [
    {
     "data": {
      "text/plain": [
       "1    0.756325\n",
       "2    0.243675\n",
       "Name: VARIANT_NAME, dtype: float64"
      ]
     },
     "execution_count": 7,
     "metadata": {},
     "output_type": "execute_result"
    }
   ],
   "source": [
    "double_group / double_group.sum()"
   ]
  },
  {
   "cell_type": "markdown",
   "id": "67d2d338",
   "metadata": {},
   "source": [
    "### Около 24% пользователей попали в обе группы. Удалим их"
   ]
  },
  {
   "cell_type": "code",
   "execution_count": 8,
   "id": "9349d243",
   "metadata": {
    "scrolled": true
   },
   "outputs": [],
   "source": [
    "duplicate = df.groupby(by = 'USER_ID').VARIANT_NAME.nunique() == 2"
   ]
  },
  {
   "cell_type": "code",
   "execution_count": 9,
   "id": "b5eb9a80",
   "metadata": {},
   "outputs": [
    {
     "data": {
      "text/plain": [
       "Int64Index([    3,    10,    18,    25,    40,    57,    60,    64,    67,\n",
       "               86,\n",
       "            ...\n",
       "             9933,  9940,  9942,  9961,  9973,  9978,  9979,  9982,  9996,\n",
       "            10000],\n",
       "           dtype='int64', name='USER_ID', length=1541)"
      ]
     },
     "execution_count": 9,
     "metadata": {},
     "output_type": "execute_result"
    }
   ],
   "source": [
    "duplicate = duplicate[duplicate].index\n",
    "duplicate"
   ]
  },
  {
   "cell_type": "code",
   "execution_count": 10,
   "id": "06d53135",
   "metadata": {},
   "outputs": [
    {
     "data": {
      "text/html": [
       "<div>\n",
       "<style scoped>\n",
       "    .dataframe tbody tr th:only-of-type {\n",
       "        vertical-align: middle;\n",
       "    }\n",
       "\n",
       "    .dataframe tbody tr th {\n",
       "        vertical-align: top;\n",
       "    }\n",
       "\n",
       "    .dataframe thead th {\n",
       "        text-align: right;\n",
       "    }\n",
       "</style>\n",
       "<table border=\"1\" class=\"dataframe\">\n",
       "  <thead>\n",
       "    <tr style=\"text-align: right;\">\n",
       "      <th></th>\n",
       "      <th>USER_ID</th>\n",
       "      <th>VARIANT_NAME</th>\n",
       "      <th>REVENUE</th>\n",
       "    </tr>\n",
       "  </thead>\n",
       "  <tbody>\n",
       "    <tr>\n",
       "      <th>0</th>\n",
       "      <td>737</td>\n",
       "      <td>variant</td>\n",
       "      <td>0.0</td>\n",
       "    </tr>\n",
       "    <tr>\n",
       "      <th>4</th>\n",
       "      <td>6174</td>\n",
       "      <td>variant</td>\n",
       "      <td>0.0</td>\n",
       "    </tr>\n",
       "    <tr>\n",
       "      <th>5</th>\n",
       "      <td>2380</td>\n",
       "      <td>variant</td>\n",
       "      <td>0.0</td>\n",
       "    </tr>\n",
       "    <tr>\n",
       "      <th>7</th>\n",
       "      <td>9168</td>\n",
       "      <td>control</td>\n",
       "      <td>0.0</td>\n",
       "    </tr>\n",
       "    <tr>\n",
       "      <th>9</th>\n",
       "      <td>7548</td>\n",
       "      <td>control</td>\n",
       "      <td>0.0</td>\n",
       "    </tr>\n",
       "    <tr>\n",
       "      <th>...</th>\n",
       "      <td>...</td>\n",
       "      <td>...</td>\n",
       "      <td>...</td>\n",
       "    </tr>\n",
       "    <tr>\n",
       "      <th>9993</th>\n",
       "      <td>2400</td>\n",
       "      <td>variant</td>\n",
       "      <td>0.0</td>\n",
       "    </tr>\n",
       "    <tr>\n",
       "      <th>9994</th>\n",
       "      <td>3129</td>\n",
       "      <td>control</td>\n",
       "      <td>0.0</td>\n",
       "    </tr>\n",
       "    <tr>\n",
       "      <th>9996</th>\n",
       "      <td>502</td>\n",
       "      <td>variant</td>\n",
       "      <td>0.0</td>\n",
       "    </tr>\n",
       "    <tr>\n",
       "      <th>9998</th>\n",
       "      <td>7741</td>\n",
       "      <td>control</td>\n",
       "      <td>0.0</td>\n",
       "    </tr>\n",
       "    <tr>\n",
       "      <th>9999</th>\n",
       "      <td>9468</td>\n",
       "      <td>control</td>\n",
       "      <td>0.0</td>\n",
       "    </tr>\n",
       "  </tbody>\n",
       "</table>\n",
       "<p>6070 rows × 3 columns</p>\n",
       "</div>"
      ],
      "text/plain": [
       "      USER_ID VARIANT_NAME  REVENUE\n",
       "0         737      variant      0.0\n",
       "4        6174      variant      0.0\n",
       "5        2380      variant      0.0\n",
       "7        9168      control      0.0\n",
       "9        7548      control      0.0\n",
       "...       ...          ...      ...\n",
       "9993     2400      variant      0.0\n",
       "9994     3129      control      0.0\n",
       "9996      502      variant      0.0\n",
       "9998     7741      control      0.0\n",
       "9999     9468      control      0.0\n",
       "\n",
       "[6070 rows x 3 columns]"
      ]
     },
     "execution_count": 10,
     "metadata": {},
     "output_type": "execute_result"
    }
   ],
   "source": [
    "df_new = df[~df.USER_ID.isin(duplicate)]\n",
    "df_new"
   ]
  },
  {
   "cell_type": "code",
   "execution_count": 11,
   "id": "34162a11",
   "metadata": {
    "scrolled": true
   },
   "outputs": [
    {
     "data": {
      "text/plain": [
       "USER_ID         4783\n",
       "VARIANT_NAME       2\n",
       "REVENUE           70\n",
       "dtype: int64"
      ]
     },
     "execution_count": 11,
     "metadata": {},
     "output_type": "execute_result"
    }
   ],
   "source": [
    "df_new.nunique()"
   ]
  },
  {
   "cell_type": "markdown",
   "id": "7831eb83",
   "metadata": {},
   "source": [
    "### Количество уникальных пользователей, которые попали в одну группу совпали"
   ]
  },
  {
   "cell_type": "code",
   "execution_count": 12,
   "id": "0a94997b",
   "metadata": {},
   "outputs": [],
   "source": [
    "df = df_new"
   ]
  },
  {
   "cell_type": "markdown",
   "id": "9eb4ac30",
   "metadata": {},
   "source": [
    "### Посмотрим, как распределены данные"
   ]
  },
  {
   "cell_type": "code",
   "execution_count": 13,
   "id": "f954eae1",
   "metadata": {},
   "outputs": [
    {
     "data": {
      "image/png": "[encoded data removed]",
      "text/plain": [
       "<Figure size 640x480 with 1 Axes>"
      ]
     },
     "metadata": {},
     "output_type": "display_data"
    }
   ],
   "source": [
    "sns.boxplot(x = 'REVENUE', y = 'VARIANT_NAME', data = df, orient = 'h').set(title = 'Revenue by variant_name');"
   ]
  },
  {
   "cell_type": "markdown",
   "id": "047f666c",
   "metadata": {},
   "source": [
    "### Мы видим значительный выброс, который может быть ошибкой данных, оптовой закупкой и т.д. Так как такой выброс один, то просто удалим его"
   ]
  },
  {
   "cell_type": "code",
   "execution_count": 14,
   "id": "1b07d21d",
   "metadata": {},
   "outputs": [],
   "source": [
    "df = df[df.REVENUE < 150]"
   ]
  },
  {
   "cell_type": "code",
   "execution_count": 15,
   "id": "d5ca7b5a",
   "metadata": {},
   "outputs": [
    {
     "data": {
      "image/png": "[encoded data removed]",
      "text/plain": [
       "<Figure size 640x480 with 1 Axes>"
      ]
     },
     "metadata": {},
     "output_type": "display_data"
    }
   ],
   "source": [
    "sns.boxplot(x = 'REVENUE', y = 'VARIANT_NAME', data = df, orient = 'h').set(title = 'Revenue by variant_name');"
   ]
  },
  {
   "cell_type": "markdown",
   "id": "d20beffd",
   "metadata": {},
   "source": [
    "### Большинство пользователей не совершают покупки, посмотрим график для пользователей, которые совершают покупки"
   ]
  },
  {
   "cell_type": "code",
   "execution_count": 16,
   "id": "d21eb7d2",
   "metadata": {},
   "outputs": [
    {
     "data": {
      "image/png": "[encoded data removed]",
      "text/plain": [
       "<Figure size 640x480 with 1 Axes>"
      ]
     },
     "metadata": {},
     "output_type": "display_data"
    }
   ],
   "source": [
    "sns.boxplot(x = 'REVENUE', y = 'VARIANT_NAME', data = df[df.REVENUE > 0], orient = 'h').set(title = 'Revenue by variant_name');"
   ]
  },
  {
   "cell_type": "markdown",
   "id": "8af8914e",
   "metadata": {},
   "source": [
    "### Посмотрим на основные показатели для всех пользователей и для пользователей, которые совершают покупки"
   ]
  },
  {
   "cell_type": "code",
   "execution_count": 17,
   "id": "3c53a605",
   "metadata": {},
   "outputs": [
    {
     "data": {
      "text/html": [
       "<div>\n",
       "<style scoped>\n",
       "    .dataframe tbody tr th:only-of-type {\n",
       "        vertical-align: middle;\n",
       "    }\n",
       "\n",
       "    .dataframe tbody tr th {\n",
       "        vertical-align: top;\n",
       "    }\n",
       "\n",
       "    .dataframe thead tr th {\n",
       "        text-align: left;\n",
       "    }\n",
       "\n",
       "    .dataframe thead tr:last-of-type th {\n",
       "        text-align: right;\n",
       "    }\n",
       "</style>\n",
       "<table border=\"1\" class=\"dataframe\">\n",
       "  <thead>\n",
       "    <tr>\n",
       "      <th></th>\n",
       "      <th colspan=\"3\" halign=\"left\">USER_ID</th>\n",
       "      <th colspan=\"3\" halign=\"left\">REVENUE</th>\n",
       "    </tr>\n",
       "    <tr>\n",
       "      <th></th>\n",
       "      <th>total</th>\n",
       "      <th>nunique</th>\n",
       "      <th>count</th>\n",
       "      <th>sum</th>\n",
       "      <th>median</th>\n",
       "      <th>mean</th>\n",
       "    </tr>\n",
       "    <tr>\n",
       "      <th>VARIANT_NAME</th>\n",
       "      <th></th>\n",
       "      <th></th>\n",
       "      <th></th>\n",
       "      <th></th>\n",
       "      <th></th>\n",
       "      <th></th>\n",
       "    </tr>\n",
       "  </thead>\n",
       "  <tbody>\n",
       "    <tr>\n",
       "      <th>control</th>\n",
       "      <td>3025</td>\n",
       "      <td>2389</td>\n",
       "      <td>3025</td>\n",
       "      <td>274.55</td>\n",
       "      <td>0.0</td>\n",
       "      <td>0.090760</td>\n",
       "    </tr>\n",
       "    <tr>\n",
       "      <th>variant</th>\n",
       "      <td>3044</td>\n",
       "      <td>2393</td>\n",
       "      <td>3044</td>\n",
       "      <td>179.32</td>\n",
       "      <td>0.0</td>\n",
       "      <td>0.058909</td>\n",
       "    </tr>\n",
       "  </tbody>\n",
       "</table>\n",
       "</div>"
      ],
      "text/plain": [
       "             USER_ID               REVENUE                 \n",
       "               total nunique count     sum median      mean\n",
       "VARIANT_NAME                                               \n",
       "control         3025    2389  3025  274.55    0.0  0.090760\n",
       "variant         3044    2393  3044  179.32    0.0  0.058909"
      ]
     },
     "execution_count": 17,
     "metadata": {},
     "output_type": "execute_result"
    }
   ],
   "source": [
    "# Все пользователи\n",
    "\n",
    "df.groupby(by = 'VARIANT_NAME').agg({'USER_ID': [('total', len),'nunique','count'], 'REVENUE':['sum', 'median', 'mean']})"
   ]
  },
  {
   "cell_type": "code",
   "execution_count": 18,
   "id": "2320a058",
   "metadata": {},
   "outputs": [
    {
     "data": {
      "text/html": [
       "<div>\n",
       "<style scoped>\n",
       "    .dataframe tbody tr th:only-of-type {\n",
       "        vertical-align: middle;\n",
       "    }\n",
       "\n",
       "    .dataframe tbody tr th {\n",
       "        vertical-align: top;\n",
       "    }\n",
       "\n",
       "    .dataframe thead tr th {\n",
       "        text-align: left;\n",
       "    }\n",
       "\n",
       "    .dataframe thead tr:last-of-type th {\n",
       "        text-align: right;\n",
       "    }\n",
       "</style>\n",
       "<table border=\"1\" class=\"dataframe\">\n",
       "  <thead>\n",
       "    <tr>\n",
       "      <th></th>\n",
       "      <th colspan=\"3\" halign=\"left\">USER_ID</th>\n",
       "      <th colspan=\"3\" halign=\"left\">REVENUE</th>\n",
       "    </tr>\n",
       "    <tr>\n",
       "      <th></th>\n",
       "      <th>total</th>\n",
       "      <th>nunique</th>\n",
       "      <th>count</th>\n",
       "      <th>sum</th>\n",
       "      <th>median</th>\n",
       "      <th>mean</th>\n",
       "    </tr>\n",
       "    <tr>\n",
       "      <th>VARIANT_NAME</th>\n",
       "      <th></th>\n",
       "      <th></th>\n",
       "      <th></th>\n",
       "      <th></th>\n",
       "      <th></th>\n",
       "      <th></th>\n",
       "    </tr>\n",
       "  </thead>\n",
       "  <tbody>\n",
       "    <tr>\n",
       "      <th>control</th>\n",
       "      <td>53</td>\n",
       "      <td>53</td>\n",
       "      <td>53</td>\n",
       "      <td>274.55</td>\n",
       "      <td>2.99</td>\n",
       "      <td>5.180189</td>\n",
       "    </tr>\n",
       "    <tr>\n",
       "      <th>variant</th>\n",
       "      <td>43</td>\n",
       "      <td>42</td>\n",
       "      <td>43</td>\n",
       "      <td>179.32</td>\n",
       "      <td>2.72</td>\n",
       "      <td>4.170233</td>\n",
       "    </tr>\n",
       "  </tbody>\n",
       "</table>\n",
       "</div>"
      ],
      "text/plain": [
       "             USER_ID               REVENUE                 \n",
       "               total nunique count     sum median      mean\n",
       "VARIANT_NAME                                               \n",
       "control           53      53    53  274.55   2.99  5.180189\n",
       "variant           43      42    43  179.32   2.72  4.170233"
      ]
     },
     "execution_count": 18,
     "metadata": {},
     "output_type": "execute_result"
    }
   ],
   "source": [
    "# Пользователи совершающие покупки\n",
    "\n",
    "df[df.REVENUE > 0].groupby(by = 'VARIANT_NAME').agg({'USER_ID': [('total', len),'nunique','count'], 'REVENUE':['sum', 'median', 'mean']})"
   ]
  },
  {
   "cell_type": "markdown",
   "id": "e707ad6f",
   "metadata": {},
   "source": [
    "#### Можно сделать выводы, что в контрольной группе выручка по пользователям больше (проверим это статистическим анализом), следовательно как и средняя с медианой"
   ]
  },
  {
   "cell_type": "markdown",
   "id": "b30e50d7",
   "metadata": {},
   "source": [
    "## Статистический анализ"
   ]
  },
  {
   "cell_type": "code",
   "execution_count": 19,
   "id": "20cca2c6",
   "metadata": {},
   "outputs": [
    {
     "data": {
      "image/png": "[encoded data removed]",
      "text/plain": [
       "<Figure size 619.111x500 with 1 Axes>"
      ]
     },
     "metadata": {},
     "output_type": "display_data"
    }
   ],
   "source": [
    "sns.displot(data=df, x='REVENUE', hue='VARIANT_NAME', fill = False, kind = 'kde');"
   ]
  },
  {
   "cell_type": "code",
   "execution_count": 20,
   "id": "f12d161f",
   "metadata": {},
   "outputs": [
    {
     "data": {
      "image/png": "[encoded data removed]",
      "text/plain": [
       "<Figure size 619.111x500 with 1 Axes>"
      ]
     },
     "metadata": {},
     "output_type": "display_data"
    }
   ],
   "source": [
    "sns.displot(data = df[df.REVENUE > 0], x='REVENUE', hue='VARIANT_NAME', fill = False, kind = 'kde');"
   ]
  },
  {
   "cell_type": "markdown",
   "id": "de7ad0c7",
   "metadata": {},
   "source": [
    "#### По распределению мы можем смело сказать, что оно не является нормальным, но для чистоты анализа проведем тест на нормальность Шапиро-Уилка. Уровень значимости возьмем 5%"
   ]
  },
  {
   "cell_type": "markdown",
   "id": "a8b0b8d4",
   "metadata": {},
   "source": [
    "    - H0: данные распределены нормально \n",
    "    - H1: данные распределены ненормально"
   ]
  },
  {
   "cell_type": "code",
   "execution_count": 21,
   "id": "2843cab1",
   "metadata": {},
   "outputs": [
    {
     "name": "stdout",
     "output_type": "stream",
     "text": [
      "Данные из группы variant распределены ненормально\n",
      "Данные из группы control распределены ненормально\n"
     ]
    }
   ],
   "source": [
    "a = 0.05\n",
    "for i in df.VARIANT_NAME.unique():\n",
    "    x = stats.shapiro(df.loc[df.VARIANT_NAME == i, 'REVENUE'])[1]\n",
    "    if x > 0.05:\n",
    "        print(f'Данные из группы {i} распределены нормально')\n",
    "    else:\n",
    "        print(f'Данные из группы {i} распределены ненормально')"
   ]
  },
  {
   "cell_type": "markdown",
   "id": "a909d60a",
   "metadata": {},
   "source": [
    "#### Так как наши данные имеют не нормальное распределение, а также независимы, так как мы убрали пользователей, которые попадали в обе группы, то мы можем применить тест Манна-Уитни. Уровень значимость 5%"
   ]
  },
  {
   "cell_type": "markdown",
   "id": "00788bba",
   "metadata": {},
   "source": [
    "    - H0: пользователи из контрольной группы приносят такой же доход, как и в альтернативной (распределения равны)\n",
    "    - H1: пользователи из контрольной группы приносят больший доход, чем пользователи из альтернативной"
   ]
  },
  {
   "cell_type": "code",
   "execution_count": 22,
   "id": "61b17fca",
   "metadata": {},
   "outputs": [
    {
     "data": {
      "text/plain": [
       "MannwhitneyuResult(statistic=4619788.0, pvalue=0.1429921154309774)"
      ]
     },
     "execution_count": 22,
     "metadata": {},
     "output_type": "execute_result"
    }
   ],
   "source": [
    "stats.mannwhitneyu(df[df.VARIANT_NAME == 'control'].REVENUE, df[df.VARIANT_NAME == 'variant'].REVENUE, alternative = 'greater')"
   ]
  },
  {
   "cell_type": "markdown",
   "id": "1184fa23",
   "metadata": {},
   "source": [
    "### P-value > 0.05, поэтому мы не может отвергнуть нулевую гипотезу.\n",
    "### Делаем вывод, что пользователи из контрольной группы приносят такой же доход, как и в альтернативной"
   ]
  },
  {
   "cell_type": "markdown",
   "id": "517ca401",
   "metadata": {},
   "source": [
    "## Bootstrap"
   ]
  },
  {
   "cell_type": "markdown",
   "id": "be502d4b",
   "metadata": {},
   "source": [
    "#### Проверим гипотезу равенства среднего в двух группа бутстрапированием"
   ]
  },
  {
   "cell_type": "code",
   "execution_count": 25,
   "id": "3e9031af",
   "metadata": {},
   "outputs": [
    {
     "data": {
      "text/html": [
       "<div>\n",
       "<style scoped>\n",
       "    .dataframe tbody tr th:only-of-type {\n",
       "        vertical-align: middle;\n",
       "    }\n",
       "\n",
       "    .dataframe tbody tr th {\n",
       "        vertical-align: top;\n",
       "    }\n",
       "\n",
       "    .dataframe thead th {\n",
       "        text-align: right;\n",
       "    }\n",
       "</style>\n",
       "<table border=\"1\" class=\"dataframe\">\n",
       "  <thead>\n",
       "    <tr style=\"text-align: right;\">\n",
       "      <th></th>\n",
       "      <th>USER_ID</th>\n",
       "      <th>VARIANT_NAME</th>\n",
       "      <th>REVENUE</th>\n",
       "    </tr>\n",
       "  </thead>\n",
       "  <tbody>\n",
       "    <tr>\n",
       "      <th>0</th>\n",
       "      <td>737</td>\n",
       "      <td>variant</td>\n",
       "      <td>0.0</td>\n",
       "    </tr>\n",
       "    <tr>\n",
       "      <th>4</th>\n",
       "      <td>6174</td>\n",
       "      <td>variant</td>\n",
       "      <td>0.0</td>\n",
       "    </tr>\n",
       "    <tr>\n",
       "      <th>5</th>\n",
       "      <td>2380</td>\n",
       "      <td>variant</td>\n",
       "      <td>0.0</td>\n",
       "    </tr>\n",
       "    <tr>\n",
       "      <th>14</th>\n",
       "      <td>3489</td>\n",
       "      <td>variant</td>\n",
       "      <td>0.0</td>\n",
       "    </tr>\n",
       "    <tr>\n",
       "      <th>16</th>\n",
       "      <td>7549</td>\n",
       "      <td>variant</td>\n",
       "      <td>0.0</td>\n",
       "    </tr>\n",
       "  </tbody>\n",
       "</table>\n",
       "</div>"
      ],
      "text/plain": [
       "    USER_ID VARIANT_NAME  REVENUE\n",
       "0       737      variant      0.0\n",
       "4      6174      variant      0.0\n",
       "5      2380      variant      0.0\n",
       "14     3489      variant      0.0\n",
       "16     7549      variant      0.0"
      ]
     },
     "execution_count": 25,
     "metadata": {},
     "output_type": "execute_result"
    }
   ],
   "source": [
    "variant = df[df['VARIANT_NAME'] == 'variant']\n",
    "variant.head()"
   ]
  },
  {
   "cell_type": "code",
   "execution_count": 27,
   "id": "5946642f",
   "metadata": {},
   "outputs": [
    {
     "data": {
      "text/html": [
       "<div>\n",
       "<style scoped>\n",
       "    .dataframe tbody tr th:only-of-type {\n",
       "        vertical-align: middle;\n",
       "    }\n",
       "\n",
       "    .dataframe tbody tr th {\n",
       "        vertical-align: top;\n",
       "    }\n",
       "\n",
       "    .dataframe thead th {\n",
       "        text-align: right;\n",
       "    }\n",
       "</style>\n",
       "<table border=\"1\" class=\"dataframe\">\n",
       "  <thead>\n",
       "    <tr style=\"text-align: right;\">\n",
       "      <th></th>\n",
       "      <th>USER_ID</th>\n",
       "      <th>VARIANT_NAME</th>\n",
       "      <th>REVENUE</th>\n",
       "    </tr>\n",
       "  </thead>\n",
       "  <tbody>\n",
       "    <tr>\n",
       "      <th>7</th>\n",
       "      <td>9168</td>\n",
       "      <td>control</td>\n",
       "      <td>0.0</td>\n",
       "    </tr>\n",
       "    <tr>\n",
       "      <th>9</th>\n",
       "      <td>7548</td>\n",
       "      <td>control</td>\n",
       "      <td>0.0</td>\n",
       "    </tr>\n",
       "    <tr>\n",
       "      <th>10</th>\n",
       "      <td>8395</td>\n",
       "      <td>control</td>\n",
       "      <td>0.0</td>\n",
       "    </tr>\n",
       "    <tr>\n",
       "      <th>11</th>\n",
       "      <td>1184</td>\n",
       "      <td>control</td>\n",
       "      <td>0.0</td>\n",
       "    </tr>\n",
       "    <tr>\n",
       "      <th>12</th>\n",
       "      <td>7165</td>\n",
       "      <td>control</td>\n",
       "      <td>0.0</td>\n",
       "    </tr>\n",
       "  </tbody>\n",
       "</table>\n",
       "</div>"
      ],
      "text/plain": [
       "    USER_ID VARIANT_NAME  REVENUE\n",
       "7      9168      control      0.0\n",
       "9      7548      control      0.0\n",
       "10     8395      control      0.0\n",
       "11     1184      control      0.0\n",
       "12     7165      control      0.0"
      ]
     },
     "execution_count": 27,
     "metadata": {},
     "output_type": "execute_result"
    }
   ],
   "source": [
    "control = df[df['VARIANT_NAME'] == 'control']\n",
    "control.head()"
   ]
  },
  {
   "cell_type": "markdown",
   "id": "c7f6f533",
   "metadata": {},
   "source": [
    "#### Если нуль попадет в доверительный интервал 95%, то можно будет сказать, что нет разницы между средним в двух группах"
   ]
  },
  {
   "cell_type": "markdown",
   "id": "53b9eaa5",
   "metadata": {},
   "source": [
    "    -H0: разница между средними в двух группах равна 0\n",
    "    -H1: разница между средними в двух группах не равна 0"
   ]
  },
  {
   "cell_type": "code",
   "execution_count": 31,
   "id": "c70d9de5",
   "metadata": {},
   "outputs": [],
   "source": [
    "diffs = []\n",
    "for _ in range(10000):\n",
    "    sample_variant = variant.sample(variant.shape[0], replace = True)\n",
    "    sample_control = control.sample(control.shape[0], replace = True)\n",
    "    mean_diff = sample_variant.REVENUE.mean() - sample_control.REVENUE.mean()\n",
    "    diffs.append(mean_diff)"
   ]
  },
  {
   "cell_type": "code",
   "execution_count": 53,
   "id": "79fbfd62",
   "metadata": {},
   "outputs": [],
   "source": [
    "left_bound = np.percentile(diffs, 2.5)\n",
    "right_bound = np.percentile(diffs, 97.5)"
   ]
  },
  {
   "cell_type": "code",
   "execution_count": 56,
   "id": "8aa5df68",
   "metadata": {},
   "outputs": [
    {
     "data": {
      "image/png": "[encoded data removed]",
      "text/plain": [
       "<Figure size 1000x300 with 1 Axes>"
      ]
     },
     "metadata": {},
     "output_type": "display_data"
    },
    {
     "name": "stdout",
     "output_type": "stream",
     "text": [
      "Lower bound: -0.07774732659289105\n",
      "Upper bound: 0.012586891758343181\n"
     ]
    }
   ],
   "source": [
    "fig = plt.figure(figsize = (10,3))\n",
    "ax = plt.hist(diffs, bins = 40)\n",
    "plt.axvline(left_bound, color = 'r')\n",
    "plt.axvline(right_bound, color = 'r')\n",
    "plt.ylabel('Frequency')\n",
    "plt.xlabel('Difference in mean revenue')\n",
    "plt.title('Bootstrap')\n",
    "plt.show()\n",
    "print('Lower bound:',left_bound)\n",
    "print('Upper bound:', right_bound)"
   ]
  },
  {
   "cell_type": "markdown",
   "id": "9cfe9880",
   "metadata": {},
   "source": [
    "### В доверительный интервал попал 0, значит мы можем сказать, что разницы между средними нет\n",
    "### Поверим это еще с помощью z-теста"
   ]
  },
  {
   "cell_type": "code",
   "execution_count": 72,
   "id": "c2b3a3bf",
   "metadata": {},
   "outputs": [
    {
     "data": {
      "text/plain": [
       "(1.367590650018532, 0.17144024477597197)"
      ]
     },
     "execution_count": 72,
     "metadata": {},
     "output_type": "execute_result"
    }
   ],
   "source": [
    "sm.stats.ztest(control.REVENUE, variant.REVENUE)"
   ]
  },
  {
   "cell_type": "markdown",
   "id": "acdc3afd",
   "metadata": {},
   "source": [
    "### P-value больше нашего уровня значимости в 0.05, поэтому мы не можем отвергнуть нулевую гипотезу"
   ]
  },
  {
   "cell_type": "code",
   "execution_count": null,
   "id": "ae943c7f",
   "metadata": {},
   "outputs": [],
   "source": []
  }
 ],
 "metadata": {
  "kernelspec": {
   "display_name": "Python 3 (ipykernel)",
   "language": "python",
   "name": "python3"
  },
  "language_info": {
   "codemirror_mode": {
    "name": "ipython",
    "version": 3
   },
   "file_extension": ".py",
   "mimetype": "text/x-python",
   "name": "python",
   "nbconvert_exporter": "python",
   "pygments_lexer": "ipython3",
   "version": "3.9.16"
  }
 },
 "nbformat": 4,
 "nbformat_minor": 5
}
